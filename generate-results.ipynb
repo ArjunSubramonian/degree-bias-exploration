{
 "cells": [
  {
   "cell_type": "code",
   "execution_count": null,
   "metadata": {},
   "outputs": [],
   "source": [
    "from os import environ\n",
    "\n",
    "!jupyter nbconvert  --to script  \"explore-degree-bias.ipynb\"\n",
    "# !rm -rf results/*\n",
    "# !rm -rf plots/*\n",
    "# !rm -rf plot_data/*\n",
    "\n",
    "for dn in ['Cora_ML', 'CiteSeer', 'Physics', 'CS', 'Photo', 'Computers', 'chameleon', 'squirrel']:\n",
    "    for nl in ['3']:\n",
    "        \n",
    "        print(dn, nl)\n",
    "            \n",
    "        environ['dataset'] = dn\n",
    "        environ['num_gnn_layers'] = nl\n",
    "\n",
    "        !python3 explore-degree-bias.py\n",
    "\n",
    "        print()"
   ]
  },
  {
   "cell_type": "code",
   "execution_count": null,
   "metadata": {},
   "outputs": [],
   "source": [
    "!tar cvzf degree-bias-plots.zip plots/*"
   ]
  },
  {
   "cell_type": "code",
   "execution_count": null,
   "metadata": {},
   "outputs": [],
   "source": []
  }
 ],
 "metadata": {
  "kernelspec": {
   "display_name": "Python 3",
   "language": "python",
   "name": "python3"
  },
  "language_info": {
   "codemirror_mode": {
    "name": "ipython",
    "version": 3
   },
   "file_extension": ".py",
   "mimetype": "text/x-python",
   "name": "python",
   "nbconvert_exporter": "python",
   "pygments_lexer": "ipython3",
   "version": "3.8.12"
  }
 },
 "nbformat": 4,
 "nbformat_minor": 2
}
